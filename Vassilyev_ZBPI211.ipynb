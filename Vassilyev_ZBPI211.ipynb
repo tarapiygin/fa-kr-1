{
  "cells": [
    {
      "cell_type": "markdown",
      "metadata": {
        "id": "xGMQjJ_ruTc1"
      },
      "source": [
        "#Контрольная работа\n"
      ]
    },
    {
      "cell_type": "markdown",
      "metadata": {
        "id": "u7jHKQmhOqTg"
      },
      "source": [
        "# 1.\n",
        "\n",
        "Напишите **рекурсивную** функцию ```fact```, которая вычисляет факториал заданного числа ```x```. \n"
      ]
    },
    {
      "cell_type": "code",
      "execution_count": null,
      "metadata": {
        "id": "VlRnn8x4JPng"
      },
      "outputs": [],
      "source": [
        "def fact(x):\n",
        "  if x == 1:\n",
        "        return 1\n",
        "  else:\n",
        "        return x * fact(x - 1)"
      ]
    },
    {
      "cell_type": "markdown",
      "metadata": {
        "id": "7KqKtOl0_dP0"
      },
      "source": [
        "#2\n",
        " Создайте функцию ```filter_even```, которая принимает на вход список целых чисел,  и фильтруя, возвращает список, содержащий только четные числа. Используйте ```filter``` для фильтрации и  ```lambda```."
      ]
    },
    {
      "cell_type": "code",
      "execution_count": null,
      "metadata": {
        "id": "jQywtfM9JqOv"
      },
      "outputs": [],
      "source": [
        "def filter_even(li):\n",
        "  return list(filter(lambda elem: elem % 2 == 0, li))"
      ]
    },
    {
      "cell_type": "markdown",
      "metadata": {
        "id": "gYXn-ZOcBbiG"
      },
      "source": [
        "#3\n",
        "Напишите функцию ```square``` ,которая принимает на вход список целых чисел и возвращает список с возведенными в квадрат элементами. Используйте ```map```."
      ]
    },
    {
      "cell_type": "code",
      "execution_count": null,
      "metadata": {
        "id": "HEzHOZUdJlxU"
      },
      "outputs": [],
      "source": [
        "def square(li):\n",
        "  return list(map(lambda x: x * x, li))"
      ]
    },
    {
      "cell_type": "markdown",
      "metadata": {
        "id": "IJ6rXeTNFfFv"
      },
      "source": [
        "#4\n",
        "Напишите функцию бинарного поиска ```bin_search```, которая принимает на вход отсортированный список и элемент. Функция должна возвращать индекс искомого элемента в списке. \n",
        "\n",
        "Ввод: \n",
        "```\n",
        "[2,5,7,9,11,17,222] 11\n",
        "```\n",
        "Вывод: \n",
        " ```\n",
        " 4\n",
        " ```\n",
        "\n",
        "Ввод:\n",
        "```\n",
        " [2,5,7,9,11,17,222] 12\n",
        "```\n",
        "Вывод:\n",
        "```\n",
        "  -1\n",
        "```"
      ]
    },
    {
      "cell_type": "code",
      "execution_count": null,
      "metadata": {
        "id": "vb09yidrI-8D"
      },
      "outputs": [],
      "source": [
        "def bin_search(li, element):\n",
        "    start = 0\n",
        "    end = len(li)\n",
        "    mid = 0\n",
        "    while start <= end:\n",
        "        mid = (start + end) // 2\n",
        "        if element == li[mid]:\n",
        "            return mid\n",
        "        \n",
        "        if element < li[mid]:\n",
        "            end = mid - 1\n",
        "        else:\n",
        "            start = mid + 1\n",
        "    return -1"
      ]
    },
    {
      "cell_type": "markdown",
      "metadata": {
        "id": "Uhry6tBPMl9s"
      },
      "source": [
        "#5\n",
        "Напишите функцию ```is_palindrome``` определяющую,является ли строка палиндромом.\n",
        "Палиндромами являются текстовые строки, которые одинаково читаются слева направо и справа налево. В строках не учитываются знаки препинания, пробельные символы и цифры; регистр не имеет значения. \n",
        "\n",
        "На вход подается строка ```string```.\n",
        "\n",
        "Выведите YES, если строка является палиндромом и NO иначе.\n",
        "\n",
        "Запрещается использовать reverse списка - ```list[::-1]``` и функцию ```reversed```.\n",
        "Чтобы учесть это ограничение, эту задачу рекомендуется решать используя технику решения задач \"два указателя\". Один указатель читает только символы слева направо, а второй - справа налево.\n",
        "\n",
        "Примеры:\n",
        "\n",
        "Ввод \n",
        "```\n",
        "Madam, I'm Adam\n",
        "``` \n",
        "Вывод\n",
        "```\n",
        "YES\n",
        "```\n",
        "Ввод\n",
        "```\n",
        "А роза упала на лапу Азора\n",
        "``` \n",
        "Вывод  \n",
        "```\n",
        "YES\n",
        "```"
      ]
    },
    {
      "cell_type": "code",
      "execution_count": null,
      "metadata": {
        "id": "gPf3lum4GgIF"
      },
      "outputs": [],
      "source": [
        "def is_palindrome(string):\n",
        "    redundant_symbols = '.,!?:;()[]\\{\\}\\'\\\"/\\\\- '\n",
        "    for symbol in string:\n",
        "        if symbol in redundant_symbols:\n",
        "            string = string.replace(symbol, '')\n",
        "\n",
        "    string = string.lower()\n",
        "    length = len(string)\n",
        "    mid = length // 2\n",
        "    for i in range(mid):\n",
        "        if string[i] != string[length - 1 - i]:\n",
        "            print('NO')\n",
        "            return\n",
        "\n",
        "    print('YES')\n",
        "    return"
      ]
    },
    {
      "cell_type": "markdown",
      "metadata": {
        "id": "MkFFSL_fQ__r"
      },
      "source": [
        "# 6\n",
        "Написать функцию ```calculate```, которая принимает на вход текстовый файл содержащий строки следующего формата:\n",
        "\n",
        "Формат файла:\n",
        "    ```арифметическая операция```    ```целое число #1```    ```целое число #2```\\\n",
        "Разделитель - 4 пробела\n",
        "\n",
        "Функция должна вернуть 1 строку.\n",
        "Строка содержит набор из чисел, разделенных запятой. \n",
        "После последнего числа запятая не ставится.\n",
        "Каждое число - результат операции: \n",
        "    ```\"результирующее целое число\"``` = ```\"целое число #1\"``` применить ```\"арифметическая операция\"``` ```\"целое число #2\"```\n",
        "\n",
        "**Пример входного файла:**\n",
        "\n",
        "`+    5    4`\\\n",
        "`-    -10449    -7623`\\\n",
        "`**    2    10`\n",
        "\n",
        "**Пример выходной строки (для примера входного файла выше):**\n",
        "\n",
        "`9,-2826,1024`\n",
        "\n",
        "**Допустимые операции:**\n",
        "\n",
        "`+ (сложение)`\\\n",
        "`- (вычитание)`\\\n",
        "`* (умножение)`\\\n",
        "`// (целочисленное деление) (для этой операции подаются только положительные числа)`\\\n",
        "`% (остаток от деления) (для этой операции подаются только положительные числа)`'\\\n",
        "`** (возведение в степень) (для этой операции подаются только положительные числа)`\n",
        "\n",
        "Входные числа - только целые.\\\n",
        "Выходные числа - только целые.\n",
        "\n",
        "[Входной файл для самопроверки.](https://drive.google.com/file/d/1OcqaMTseYffO2JAF_thBJDJ-aqFq9Vxc/view?usp=sharing)\n",
        "\n",
        "[Выходная строка для самопроверки содержится в файле.](https://drive.google.com/file/d/1IkCn8C6ULuEIngSSpkvI-0cIhDUiIEk9/view?usp=sharing)\n",
        "\n",
        "\n",
        "\n",
        "\n",
        "\n",
        "\n"
      ]
    },
    {
      "cell_type": "code",
      "execution_count": null,
      "metadata": {
        "id": "m79AEMjZHIZZ"
      },
      "outputs": [],
      "source": [
        "def calculate(path2file):\n",
        "    input = open(path2file, 'r')\n",
        "    output = open('output.txt', 'w')\n",
        "    string = ''\n",
        "    for line in input:\n",
        "        words = line.split()\n",
        "        if words[0] == '+': result = int(words[1]) + int(words[2])\n",
        "        elif words[0] == '-': result = int(words[1]) - int(words[2])\n",
        "        elif words[0] == '*': result = int(words[1]) * int(words[2])\n",
        "        elif words[0] == '//': result = int(words[1]) // int(words[2])\n",
        "        elif words[0] == '%': result = int(words[1]) % int(words[2])\n",
        "        elif words[0] == '**': result = int(words[1]) ** int(words[2])\n",
        "        string += str(result) + ','\n",
        "    \n",
        "    string = string[:-1]\n",
        "    return string"
      ]
    },
    {
      "cell_type": "markdown",
      "metadata": {
        "id": "kYzWG0NAUKdc"
      },
      "source": [
        "# 7\n",
        "Написать функцию ```substring_slice```,которой на вход поступают два текстовых файла.\n",
        "\n",
        "- Первый файл содержит строки текста.   \n",
        " \n",
        "- Второй файл содержит строки из двух целых неотрицательных чисел.\n",
        "Первое число в строке всегда меньше или равно второму.\n",
        "Числа всегда меньше длины соответствующей строки первого файла.\n",
        "Соответствующей - это значит 1-ая строка из 1-го файла соответствует 1-ой строке из 2-го файла, а 123-я строка из 1-го файла соответствует 123-ей строке из 2-го файла.\n",
        "\n",
        "- Функция должна вернуть строку, состоящую из подстрок 1-го входного файла.\n",
        "Подстроки разделены пробелами.\n",
        "Какие брать подстроки - написано во втором файле.\n",
        "В конце файла пробела нет.\n",
        "\n",
        "**Например**\n",
        "120 строка в 1-ом файле: `JBOljrfkrfjgikenfjerkrkvkfKUGlknc`\n",
        "120 строка во 2-ом файле: `13 27`\n",
        "Это значит 120 подстрока в результирующем файле это символы с 13 по 27, включая 13-ый и 27-ой символы.\n",
        "Не забывайте, что нумерация символов в строке с 0.\n",
        "Пример требуемой подстроки: `kenfjerkrkvkfKU`\n",
        "- **Пример 1-го входного файла:**\n",
        "  ```\n",
        "QxBpXEeyDWHiuTttWjhFMGTlrCMqpSvrNOQoxUbyiZombbLaYqBHvydPJlvdspwwpgeLNlHMVYrZvPsQkcQgPpierYSahialdXlde\n",
        "rNsZEKdYYlKKRrYGNWEXTYXOpQqrdGANRfoyeVvRwLVhZDfzKhFQkuSYODIXFLYafnXbxuwqZKQKjSiFZAtSponvmulcjicIDhNaQ\n",
        "TttSFLqbNkHvOeHSKTTGEEGxwtXImLeCmcKjvsIkIIvvlsUSazNuEsdDYlOljweSubVJxHbSJkBpByFiUCFctgrLKhlYgEWWuDYqx\n",
        "```\n",
        "\n",
        "- **Пример 2-го входного файла:**\n",
        "```\n",
        "30 84\n",
        "5 79\n",
        "70 70\n",
        "```\n",
        "- **Пример выходной строки:**\n",
        "```\n",
        "vrNOQoxUbyiZombbLaYqBHvydPJlvdspwwpgeLNlHMVYrZvPsQkcQgP KdYYlKKRrYGNWEXTYXOpQqrdGANRfoyeVvRwLVhZDfzKhFQkuSYODIXFLYafnXbxuwqZKQKjSiF b\n",
        "\n",
        "```"
      ]
    },
    {
      "cell_type": "markdown",
      "metadata": {
        "id": "x_5FK_dPw6tv"
      },
      "source": [
        "\n",
        "[Пример 1-го входного файла для самопроверки.](https://drive.google.com/file/d/1XlnnBunKfNA2c4so3VKH1kXKvFjOLDAX/view?usp=sharing)\n",
        "\n",
        "[Пример 2-го входного файла для самопроверки.](https://drive.google.com/file/d/1_gIyNhoSptvlvfA8UOlY60rXDva1fW2G/view?usp=sharing)\n",
        "\n",
        "[Пример выходной строки для двух файлов выше содержится в этом файле.](https://drive.google.com/file/d/11Lsq1DV8iuMsZ_LPuTj50w5Htq1-95Ys/view?usp=sharing)"
      ]
    },
    {
      "cell_type": "code",
      "execution_count": null,
      "metadata": {
        "id": "eMGyu-8raMQB"
      },
      "outputs": [],
      "source": [
        "def substring_slice(path2file_1,path2file_2):\n",
        "    file1 = open(path2file_1, 'r')\n",
        "    file2 = open(path2file_2, 'r')\n",
        "    str = ''\n",
        "    for line in file1:\n",
        "        indexes = (file2.readline()).split()\n",
        "        str += line[int(indexes[0]):int(indexes[1]) + 1] + ' '\n",
        "\n",
        "    str = str[:-1]\n",
        "    return str"
      ]
    },
    {
      "cell_type": "markdown",
      "metadata": {
        "id": "uSMlKPcMqh69"
      },
      "source": [
        "#8\n",
        "\n",
        "Написать функцию ```decode_ch```,на вход которой поступает строка.В ней хранится набор химических символов (He, O, H, Mg, Fe, ...). Без пробелов.\n",
        "Нужно расшифровать химические символы в название химических элементов.Функция должна вернуть строку - расшифровку\n",
        "\n",
        "Для удобства, прилагается [json файл](https://drive.google.com/file/d/1Uugf4zLRjBx-73RfelroOrf1JlTtpLfi/view?usp=sharing), который ставит в соответствие химическому символу его химическое название.\n",
        "\n",
        "Как прочитать этот файл в словарь python (dict):\n",
        "```\n",
        "periodic_table = json.load(open('periodic_table.json'))\n",
        "```\n",
        "- **Пример входной строки:**\n",
        "```\n",
        "NOTiFICaTiON\n",
        "```\n",
        "-**Пример выходной строки:**\n",
        "```\n",
        "АзотКислородТитанФторЙодКальцийТитанКислородАзот\n",
        "```\n",
        "\n",
        "Обратите внимание, что, например, \"Bi\" - это \"Висмут\", а не \"БорЙод\".\n",
        "То есть регистр (заглавные или прописные) букв имеет значение.\n",
        "\n"
      ]
    },
    {
      "cell_type": "code",
      "execution_count": null,
      "metadata": {
        "id": "bqokuO7sr0ij"
      },
      "outputs": [],
      "source": [
        "import json\n",
        "\n",
        "def decode_ch(sting_of_elements):\n",
        "    periodic_table = json.load(open('periodic_table.json', encoding='utf-8'))\n",
        "    str = ''\n",
        "    length = len(sting_of_elements)\n",
        "    for i in range(length):\n",
        "        if sting_of_elements[i].islower():\n",
        "            continue\n",
        "        if i + 1 < length:\n",
        "            if sting_of_elements[i + 1].islower():\n",
        "                str += periodic_table[sting_of_elements[i:i + 2]]\n",
        "\n",
        "            else:\n",
        "                str += periodic_table[sting_of_elements[i]]\n",
        "        else:\n",
        "            str += periodic_table[sting_of_elements[i]]\n",
        "\n",
        "    return str\n"
      ]
    },
    {
      "cell_type": "markdown",
      "metadata": {
        "id": "vsy-ZLYuDnVj"
      },
      "source": [
        "#9\n",
        "\n",
        "Создайте класс с названием Student.\n",
        "\n",
        "При инициализации объекта подается два аргумента. Первый - имя студента. Второй - фамилия студента.\n",
        "\n",
        "1. Создайте три атрибута объекта данного класса:\n",
        "\n",
        "- *name* имя студента\n",
        "- *surname* фамилия студента\n",
        "- *fullname* имя и фамилия студента через пробел\n",
        "2. Создайте метод для экземпляра класса Student под названием greeting, который при вызове возвращает строку Hello, I am Student\n",
        "Здесь и далее нужно только написать сам класс. \n",
        "3. Добавьте новый атрибут класса под названием grades. При инициализации объекта соответственно добавляется новый аргумент, в котором будет лежать список оценок данного студента, по дефолту равный списку [3,4,5]. Создайте метод под названием mean_grade, который возвращает среднее всех оценок студента (то есть среднее этого атрибута).\n",
        "4. Сделайте метод is_otlichnik, который возвращает строку YES, если средняя оценок студента больше или равна 4.5 и NO в противном случае.\n",
        "Примечание: этот метод должен вызывать метод mean_grade внутри себя.\n",
        "5. На этот раз определим операцию сложения для двух студентов. Пусть такая операция возвращает строку следующего вида: \"Name1 is friends with Name2\", где Name1 и Name2 - имена первого студента и второго (именно атрибут name). То есть, если создать два экземпляра класса Student, то их сумма должна вернуть вышеописанную строку.\n",
        "6. Теперь переопределим поведение нашего класса с функцией print. Пусть при вызове функции print от экземпляра класса Student печатается его атрибут fullname.\n",
        "\n"
      ]
    },
    {
      "cell_type": "code",
      "execution_count": null,
      "metadata": {
        "id": "chG9dOmytJO2"
      },
      "outputs": [],
      "source": [
        "class Student:\n",
        "    def __init__(self, name, surname, grades = [3, 4, 5]):\n",
        "        self.name = name\n",
        "        self.surname = surname\n",
        "        self.fullname = name + ' ' + surname\n",
        "        self.grades = grades\n",
        "    \n",
        "    def greeting(self):\n",
        "        print('Hello, I am Student!')\n",
        "\n",
        "    def mean_grade(self):\n",
        "        return sum(self.grades) / len(self.grades)\n",
        "\n",
        "    def is_otlichnik(self):\n",
        "        if self.mean_grade >= 4.5:\n",
        "            return 'YES'\n",
        "        else:\n",
        "            return 'NO'\n",
        "\n",
        "    def __add__(self, obj):\n",
        "        return self.name + ' is friends with ' + obj.name\n",
        "\n",
        "    def __str__(self):\n",
        "        return self.fullname\n",
        "\n"
      ]
    },
    {
      "cell_type": "markdown",
      "metadata": {
        "id": "o1JGnKEu5ZYc"
      },
      "source": [
        "#10\n",
        "\n",
        "Определите  класс исключений ```MyError```,\n",
        " который принимает строковое сообщение ```msg``` в качестве параметра при инициализации и также имеет атрибут ```msg```.\n",
        "\n",
        "Подсказка: Чтобы определить кастомный класс  исключения,нужно создавать класс, унаследованный от ```Exception```.\n",
        "\n"
      ]
    },
    {
      "cell_type": "code",
      "execution_count": null,
      "metadata": {
        "id": "mKbHbLI3tEFi"
      },
      "outputs": [],
      "source": [
        "class MyError(Exception):\n",
        "    def __init__(self, msg):\n",
        "        self.msg = msg"
      ]
    }
  ],
  "metadata": {
    "colab": {
      "collapsed_sections": [],
      "name": "КР-ЗБ-ПИ21-*.ipynb",
      "provenance": []
    },
    "kernelspec": {
      "display_name": "Python 3",
      "name": "python3"
    },
    "language_info": {
      "name": "python"
    }
  },
  "nbformat": 4,
  "nbformat_minor": 0
}
